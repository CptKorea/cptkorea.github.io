{
 "cells": [
  {
   "cell_type": "code",
   "execution_count": null,
   "metadata": {},
   "outputs": [],
   "source": [
    "import numpy as np\n",
    "import matplotlib.pyplot as plt\n",
    "\n",
    "j = 1j"
   ]
  },
  {
   "cell_type": "code",
   "execution_count": null,
   "metadata": {},
   "outputs": [],
   "source": [
    "# H(w) = jwRC / (1 + jwRC), the functions mag and phase return the magnitude and phase of H(w)\n",
    "\n",
    "def mag(w, R, C):\n",
    "  num = w*R*C\n",
    "  den = np.sqrt(1 + (w*R*C)**2)\n",
    "  return num/den\n",
    "\n",
    "def phase(w, R, C):\n",
    "  num = 90\n",
    "  den = np.degrees(np.arctan2(w*R*C,1))\n",
    "  return num - den"
   ]
  },
  {
   "cell_type": "code",
   "execution_count": null,
   "metadata": {},
   "outputs": [],
   "source": [
    "# Create a range of frequencies on a log scale from 10^0 to 10^5\n",
    "w = np.logspace(0, 5, 1000)\n",
    "R, C = 1e3, 1e-6\n",
    "\n",
    "# Compute the magnitude and phase for the given component values\n",
    "magH = mag(w, R, C)\n",
    "phaseH = phase(w, R, C)"
   ]
  },
  {
   "cell_type": "code",
   "execution_count": null,
   "metadata": {},
   "outputs": [],
   "source": [
    "# Magnitude Bode Plot\n",
    "plt.plot(w, magH, label=r'$|H(\\omega)|$')\n",
    "plt.ylim([1e-3, 1e1])\n",
    "plt.xscale('log')\n",
    "plt.yscale('log')\n",
    "plt.ylabel(r'$|H(\\omega)|$')\n",
    "plt.xlabel(r'$\\omega$')\n",
    "plt.title('Magnitude Bode Plot')\n",
    "plt.legend();"
   ]
  },
  {
   "cell_type": "code",
   "execution_count": null,
   "metadata": {},
   "outputs": [],
   "source": [
    "# Phase Bode Plot\n",
    "plt.plot(w, phaseH, label=r'$\\angle H(\\omega)$')\n",
    "plt.ylim([-3, 100])\n",
    "plt.xscale('log')\n",
    "plt.ylabel(r'$\\angle H(\\omega)$')\n",
    "plt.xlabel(r'$\\omega$')\n",
    "plt.title('Magnitude Bode Plot')\n",
    "plt.legend();"
   ]
  }
 ],
 "metadata": {
  "kernelspec": {
   "display_name": "Python 3",
   "language": "python",
   "name": "python3"
  },
  "language_info": {
   "codemirror_mode": {
    "name": "ipython",
    "version": 3
   },
   "file_extension": ".py",
   "mimetype": "text/x-python",
   "name": "python",
   "nbconvert_exporter": "python",
   "pygments_lexer": "ipython3",
   "version": "3.7.6"
  }
 },
 "nbformat": 4,
 "nbformat_minor": 4
}
